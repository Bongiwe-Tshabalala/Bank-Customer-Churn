{
 "cells": [
  {
   "cell_type": "markdown",
   "id": "b0e8bd25-2352-4273-83f2-099903956221",
   "metadata": {
    "editable": true,
    "slideshow": {
     "slide_type": ""
    },
    "tags": []
   },
   "source": [
    "## About Dataset\n",
    "The dataset contains a sample of 1000 customers who are withdrawing their membership from the bank due to some loss and other issues. The data is owned by Santosh Kumar and published on Kaggle.com"
   ]
  },
  {
   "cell_type": "markdown",
   "id": "5f9fd0b2-75d3-405b-aac7-081f0cd1388a",
   "metadata": {},
   "source": [
    "## Import Libraries"
   ]
  },
  {
   "cell_type": "code",
   "execution_count": 2,
   "id": "45ce69ac-b713-4935-a773-48c6b7a060f2",
   "metadata": {
    "is_executing": true
   },
   "outputs": [],
   "source": [
    "#Import Python Libraries\n",
    "import pandas as pd\n",
    "import numpy as np\n",
    "import matplotlib.pyplot as plt"
   ]
  },
  {
   "cell_type": "markdown",
   "id": "63f29586-1448-48ed-a975-c749ef7f5f01",
   "metadata": {},
   "source": [
    "## Import dataset"
   ]
  },
  {
   "cell_type": "code",
   "execution_count": 3,
   "id": "3e472fe9-1cb0-4740-b550-04b67163e730",
   "metadata": {},
   "outputs": [],
   "source": [
    "#Read CSV\n",
    "df = pd.read_csv(\"Churn Modeling.csv\")"
   ]
  },
  {
   "cell_type": "markdown",
   "id": "f10d124e-4a44-4c11-ab89-da0ee06cbe17",
   "metadata": {},
   "source": [
    "## Cleaning Data"
   ]
  },
  {
   "cell_type": "markdown",
   "id": "378ae86b-d77b-42eb-9385-60916a12fa25",
   "metadata": {},
   "source": [
    "### 1. Delete columns"
   ]
  },
  {
   "cell_type": "code",
   "execution_count": 4,
   "id": "f76db8d5-2e4a-44fc-b333-a27d028d7ec0",
   "metadata": {},
   "outputs": [
    {
     "data": {
      "text/html": [
       "<div>\n",
       "<style scoped>\n",
       "    .dataframe tbody tr th:only-of-type {\n",
       "        vertical-align: middle;\n",
       "    }\n",
       "\n",
       "    .dataframe tbody tr th {\n",
       "        vertical-align: top;\n",
       "    }\n",
       "\n",
       "    .dataframe thead th {\n",
       "        text-align: right;\n",
       "    }\n",
       "</style>\n",
       "<table border=\"1\" class=\"dataframe\">\n",
       "  <thead>\n",
       "    <tr style=\"text-align: right;\">\n",
       "      <th></th>\n",
       "      <th>RowNumber</th>\n",
       "      <th>CustomerId</th>\n",
       "      <th>Surname</th>\n",
       "      <th>CreditScore</th>\n",
       "      <th>Geography</th>\n",
       "      <th>Gender</th>\n",
       "      <th>Age</th>\n",
       "      <th>Tenure</th>\n",
       "      <th>Balance</th>\n",
       "      <th>NumOfProducts</th>\n",
       "      <th>HasCrCard</th>\n",
       "      <th>IsActiveMember</th>\n",
       "      <th>EstimatedSalary</th>\n",
       "      <th>Exited</th>\n",
       "    </tr>\n",
       "  </thead>\n",
       "  <tbody>\n",
       "    <tr>\n",
       "      <th>0</th>\n",
       "      <td>1</td>\n",
       "      <td>15634602</td>\n",
       "      <td>Hargrave</td>\n",
       "      <td>619</td>\n",
       "      <td>France</td>\n",
       "      <td>Female</td>\n",
       "      <td>42</td>\n",
       "      <td>2</td>\n",
       "      <td>0.00</td>\n",
       "      <td>1</td>\n",
       "      <td>1</td>\n",
       "      <td>1</td>\n",
       "      <td>101348.88</td>\n",
       "      <td>1</td>\n",
       "    </tr>\n",
       "    <tr>\n",
       "      <th>1</th>\n",
       "      <td>2</td>\n",
       "      <td>15647311</td>\n",
       "      <td>Hill</td>\n",
       "      <td>608</td>\n",
       "      <td>Spain</td>\n",
       "      <td>Female</td>\n",
       "      <td>41</td>\n",
       "      <td>1</td>\n",
       "      <td>83807.86</td>\n",
       "      <td>1</td>\n",
       "      <td>0</td>\n",
       "      <td>1</td>\n",
       "      <td>112542.58</td>\n",
       "      <td>0</td>\n",
       "    </tr>\n",
       "    <tr>\n",
       "      <th>2</th>\n",
       "      <td>3</td>\n",
       "      <td>15619304</td>\n",
       "      <td>Onio</td>\n",
       "      <td>502</td>\n",
       "      <td>France</td>\n",
       "      <td>Female</td>\n",
       "      <td>42</td>\n",
       "      <td>8</td>\n",
       "      <td>159660.80</td>\n",
       "      <td>3</td>\n",
       "      <td>1</td>\n",
       "      <td>0</td>\n",
       "      <td>113931.57</td>\n",
       "      <td>1</td>\n",
       "    </tr>\n",
       "    <tr>\n",
       "      <th>3</th>\n",
       "      <td>4</td>\n",
       "      <td>15701354</td>\n",
       "      <td>Boni</td>\n",
       "      <td>699</td>\n",
       "      <td>France</td>\n",
       "      <td>Female</td>\n",
       "      <td>39</td>\n",
       "      <td>1</td>\n",
       "      <td>0.00</td>\n",
       "      <td>2</td>\n",
       "      <td>0</td>\n",
       "      <td>0</td>\n",
       "      <td>93826.63</td>\n",
       "      <td>0</td>\n",
       "    </tr>\n",
       "    <tr>\n",
       "      <th>4</th>\n",
       "      <td>5</td>\n",
       "      <td>15737888</td>\n",
       "      <td>Mitchell</td>\n",
       "      <td>850</td>\n",
       "      <td>Spain</td>\n",
       "      <td>Female</td>\n",
       "      <td>43</td>\n",
       "      <td>2</td>\n",
       "      <td>125510.82</td>\n",
       "      <td>1</td>\n",
       "      <td>1</td>\n",
       "      <td>1</td>\n",
       "      <td>79084.10</td>\n",
       "      <td>0</td>\n",
       "    </tr>\n",
       "  </tbody>\n",
       "</table>\n",
       "</div>"
      ],
      "text/plain": [
       "   RowNumber  CustomerId   Surname  CreditScore Geography  Gender  Age  \\\n",
       "0          1    15634602  Hargrave          619    France  Female   42   \n",
       "1          2    15647311      Hill          608     Spain  Female   41   \n",
       "2          3    15619304      Onio          502    France  Female   42   \n",
       "3          4    15701354      Boni          699    France  Female   39   \n",
       "4          5    15737888  Mitchell          850     Spain  Female   43   \n",
       "\n",
       "   Tenure    Balance  NumOfProducts  HasCrCard  IsActiveMember  \\\n",
       "0       2       0.00              1          1               1   \n",
       "1       1   83807.86              1          0               1   \n",
       "2       8  159660.80              3          1               0   \n",
       "3       1       0.00              2          0               0   \n",
       "4       2  125510.82              1          1               1   \n",
       "\n",
       "   EstimatedSalary  Exited  \n",
       "0        101348.88       1  \n",
       "1        112542.58       0  \n",
       "2        113931.57       1  \n",
       "3         93826.63       0  \n",
       "4         79084.10       0  "
      ]
     },
     "execution_count": 4,
     "metadata": {},
     "output_type": "execute_result"
    }
   ],
   "source": [
    "#Display the top 5 rows\n",
    "df.head()"
   ]
  },
  {
   "cell_type": "code",
   "execution_count": 5,
   "id": "9b2f5ee7-7b24-4a48-b3d7-9f7a9acd561d",
   "metadata": {},
   "outputs": [
    {
     "data": {
      "text/plain": [
       "(10000, 14)"
      ]
     },
     "execution_count": 5,
     "metadata": {},
     "output_type": "execute_result"
    }
   ],
   "source": [
    "#Dimensions\n",
    "df.shape"
   ]
  },
  {
   "cell_type": "markdown",
   "id": "521aae56-0177-45f6-85ae-d521ab2a027c",
   "metadata": {},
   "source": [
    "**NOTE**\n",
    "<br>\n",
    "The `RowNumber` column is not necessary for this project. Therefore it will be dropped."
   ]
  },
  {
   "cell_type": "markdown",
   "id": "770e2b85-912f-40f9-81bc-c77420044717",
   "metadata": {},
   "source": [
    "### 2. Check duplicate entries"
   ]
  },
  {
   "cell_type": "code",
   "execution_count": 6,
   "id": "b15a832c-5c86-4faa-9e7b-339777c068ce",
   "metadata": {},
   "outputs": [
    {
     "data": {
      "text/plain": [
       "CustomerId\n",
       "False    10000\n",
       "Name: count, dtype: int64"
      ]
     },
     "execution_count": 6,
     "metadata": {},
     "output_type": "execute_result"
    }
   ],
   "source": [
    "df['CustomerId'].duplicated().value_counts()"
   ]
  },
  {
   "cell_type": "markdown",
   "id": "3ae27520-a354-41d5-bcac-673655ad7673",
   "metadata": {},
   "source": [
    "**NOTE**\n",
    "<br>\n",
    "Customer records were not duplicated."
   ]
  },
  {
   "cell_type": "markdown",
   "id": "38852610-b26d-405a-b789-d352ed2f93d6",
   "metadata": {},
   "source": [
    "### 2.1 Drop unwanted columns"
   ]
  },
  {
   "cell_type": "code",
   "execution_count": 7,
   "id": "fea534d7-3dea-40d7-b7d8-cf26d78ac66d",
   "metadata": {},
   "outputs": [
    {
     "data": {
      "text/html": [
       "<div>\n",
       "<style scoped>\n",
       "    .dataframe tbody tr th:only-of-type {\n",
       "        vertical-align: middle;\n",
       "    }\n",
       "\n",
       "    .dataframe tbody tr th {\n",
       "        vertical-align: top;\n",
       "    }\n",
       "\n",
       "    .dataframe thead th {\n",
       "        text-align: right;\n",
       "    }\n",
       "</style>\n",
       "<table border=\"1\" class=\"dataframe\">\n",
       "  <thead>\n",
       "    <tr style=\"text-align: right;\">\n",
       "      <th></th>\n",
       "      <th>CreditScore</th>\n",
       "      <th>Geography</th>\n",
       "      <th>Gender</th>\n",
       "      <th>Age</th>\n",
       "      <th>Tenure</th>\n",
       "      <th>Balance</th>\n",
       "      <th>NumOfProducts</th>\n",
       "      <th>HasCrCard</th>\n",
       "      <th>IsActiveMember</th>\n",
       "      <th>EstimatedSalary</th>\n",
       "      <th>Exited</th>\n",
       "    </tr>\n",
       "  </thead>\n",
       "  <tbody>\n",
       "    <tr>\n",
       "      <th>0</th>\n",
       "      <td>619</td>\n",
       "      <td>France</td>\n",
       "      <td>Female</td>\n",
       "      <td>42</td>\n",
       "      <td>2</td>\n",
       "      <td>0.00</td>\n",
       "      <td>1</td>\n",
       "      <td>1</td>\n",
       "      <td>1</td>\n",
       "      <td>101348.88</td>\n",
       "      <td>1</td>\n",
       "    </tr>\n",
       "    <tr>\n",
       "      <th>1</th>\n",
       "      <td>608</td>\n",
       "      <td>Spain</td>\n",
       "      <td>Female</td>\n",
       "      <td>41</td>\n",
       "      <td>1</td>\n",
       "      <td>83807.86</td>\n",
       "      <td>1</td>\n",
       "      <td>0</td>\n",
       "      <td>1</td>\n",
       "      <td>112542.58</td>\n",
       "      <td>0</td>\n",
       "    </tr>\n",
       "    <tr>\n",
       "      <th>2</th>\n",
       "      <td>502</td>\n",
       "      <td>France</td>\n",
       "      <td>Female</td>\n",
       "      <td>42</td>\n",
       "      <td>8</td>\n",
       "      <td>159660.80</td>\n",
       "      <td>3</td>\n",
       "      <td>1</td>\n",
       "      <td>0</td>\n",
       "      <td>113931.57</td>\n",
       "      <td>1</td>\n",
       "    </tr>\n",
       "    <tr>\n",
       "      <th>3</th>\n",
       "      <td>699</td>\n",
       "      <td>France</td>\n",
       "      <td>Female</td>\n",
       "      <td>39</td>\n",
       "      <td>1</td>\n",
       "      <td>0.00</td>\n",
       "      <td>2</td>\n",
       "      <td>0</td>\n",
       "      <td>0</td>\n",
       "      <td>93826.63</td>\n",
       "      <td>0</td>\n",
       "    </tr>\n",
       "    <tr>\n",
       "      <th>4</th>\n",
       "      <td>850</td>\n",
       "      <td>Spain</td>\n",
       "      <td>Female</td>\n",
       "      <td>43</td>\n",
       "      <td>2</td>\n",
       "      <td>125510.82</td>\n",
       "      <td>1</td>\n",
       "      <td>1</td>\n",
       "      <td>1</td>\n",
       "      <td>79084.10</td>\n",
       "      <td>0</td>\n",
       "    </tr>\n",
       "  </tbody>\n",
       "</table>\n",
       "</div>"
      ],
      "text/plain": [
       "   CreditScore Geography  Gender  Age  Tenure    Balance  NumOfProducts  \\\n",
       "0          619    France  Female   42       2       0.00              1   \n",
       "1          608     Spain  Female   41       1   83807.86              1   \n",
       "2          502    France  Female   42       8  159660.80              3   \n",
       "3          699    France  Female   39       1       0.00              2   \n",
       "4          850     Spain  Female   43       2  125510.82              1   \n",
       "\n",
       "   HasCrCard  IsActiveMember  EstimatedSalary  Exited  \n",
       "0          1               1        101348.88       1  \n",
       "1          0               1        112542.58       0  \n",
       "2          1               0        113931.57       1  \n",
       "3          0               0         93826.63       0  \n",
       "4          1               1         79084.10       0  "
      ]
     },
     "execution_count": 7,
     "metadata": {},
     "output_type": "execute_result"
    }
   ],
   "source": [
    "#Drop RowNumber, Surnamne and CustomerId Colounns\n",
    "df = df.drop(columns=['RowNumber','CustomerId','Surname'], axis=1)\n",
    "df.head()"
   ]
  },
  {
   "cell_type": "markdown",
   "id": "e2599e1c-f9af-4b21-aaf8-4bbdf543ffa0",
   "metadata": {},
   "source": [
    "### 3. Check null values"
   ]
  },
  {
   "cell_type": "code",
   "execution_count": 8,
   "id": "75c2f62c-118f-45d0-9345-429673da2271",
   "metadata": {},
   "outputs": [
    {
     "data": {
      "text/plain": [
       "CreditScore        0\n",
       "Geography          0\n",
       "Gender             0\n",
       "Age                0\n",
       "Tenure             0\n",
       "Balance            0\n",
       "NumOfProducts      0\n",
       "HasCrCard          0\n",
       "IsActiveMember     0\n",
       "EstimatedSalary    0\n",
       "Exited             0\n",
       "dtype: int64"
      ]
     },
     "execution_count": 8,
     "metadata": {},
     "output_type": "execute_result"
    }
   ],
   "source": [
    "#Check missing values\n",
    "df.isnull().sum()"
   ]
  },
  {
   "cell_type": "code",
   "execution_count": 9,
   "id": "1df10bec-c584-44fe-bac5-8ee05883de2a",
   "metadata": {},
   "outputs": [
    {
     "name": "stdout",
     "output_type": "stream",
     "text": [
      "Geography\n",
      "France     5014\n",
      "Germany    2509\n",
      "Spain      2477\n",
      "Name: count, dtype: int64\n",
      "Gender\n",
      "Male      5457\n",
      "Female    4543\n",
      "Name: count, dtype: int64\n",
      "Age\n",
      "37    478\n",
      "38    477\n",
      "35    474\n",
      "36    456\n",
      "34    447\n",
      "     ... \n",
      "92      2\n",
      "82      1\n",
      "88      1\n",
      "85      1\n",
      "83      1\n",
      "Name: count, Length: 70, dtype: int64\n",
      "Tenure\n",
      "2     1048\n",
      "1     1035\n",
      "7     1028\n",
      "8     1025\n",
      "5     1012\n",
      "3     1009\n",
      "4      989\n",
      "9      984\n",
      "6      967\n",
      "10     490\n",
      "0      413\n",
      "Name: count, dtype: int64\n",
      "Balance\n",
      "0.00         3617\n",
      "130170.82       2\n",
      "105473.74       2\n",
      "85304.27        1\n",
      "159397.75       1\n",
      "             ... \n",
      "81556.89        1\n",
      "112687.69       1\n",
      "108698.96       1\n",
      "238387.56       1\n",
      "130142.79       1\n",
      "Name: count, Length: 6382, dtype: int64\n",
      "NumOfProducts\n",
      "1    5084\n",
      "2    4590\n",
      "3     266\n",
      "4      60\n",
      "Name: count, dtype: int64\n",
      "HasCrCard\n",
      "1    7055\n",
      "0    2945\n",
      "Name: count, dtype: int64\n",
      "IsActiveMember\n",
      "1    5151\n",
      "0    4849\n",
      "Name: count, dtype: int64\n",
      "EstimatedSalary\n",
      "24924.92     2\n",
      "101348.88    1\n",
      "55313.44     1\n",
      "72500.68     1\n",
      "182692.80    1\n",
      "            ..\n",
      "120893.07    1\n",
      "188377.21    1\n",
      "55902.93     1\n",
      "4523.74      1\n",
      "38190.78     1\n",
      "Name: count, Length: 9999, dtype: int64\n",
      "Exited\n",
      "0    7963\n",
      "1    2037\n",
      "Name: count, dtype: int64\n"
     ]
    }
   ],
   "source": [
    "#Check unique values to check for unknown values\n",
    "for col in df.iloc[:,1:12]:\n",
    "    print(df[col].value_counts())"
   ]
  },
  {
   "cell_type": "markdown",
   "id": "c258b7c1-903b-4198-9d19-18b3a5c42748",
   "metadata": {},
   "source": [
    "**NOTE**\n",
    "<br>\n",
    "There are no null or unknown values."
   ]
  },
  {
   "cell_type": "markdown",
   "id": "8b5f6185-bc4f-469a-aa01-c0bcc7cb3f46",
   "metadata": {},
   "source": [
    "### 4. Separate dataset into numerical and categorical"
   ]
  },
  {
   "cell_type": "code",
   "execution_count": 10,
   "id": "ec3d71ee-f45f-4f22-a412-9569fde0c0e7",
   "metadata": {},
   "outputs": [
    {
     "data": {
      "text/html": [
       "<div>\n",
       "<style scoped>\n",
       "    .dataframe tbody tr th:only-of-type {\n",
       "        vertical-align: middle;\n",
       "    }\n",
       "\n",
       "    .dataframe tbody tr th {\n",
       "        vertical-align: top;\n",
       "    }\n",
       "\n",
       "    .dataframe thead th {\n",
       "        text-align: right;\n",
       "    }\n",
       "</style>\n",
       "<table border=\"1\" class=\"dataframe\">\n",
       "  <thead>\n",
       "    <tr style=\"text-align: right;\">\n",
       "      <th></th>\n",
       "      <th>CreditScore</th>\n",
       "      <th>Geography</th>\n",
       "      <th>Gender</th>\n",
       "      <th>Age</th>\n",
       "      <th>Tenure</th>\n",
       "      <th>Balance</th>\n",
       "      <th>NumOfProducts</th>\n",
       "      <th>HasCrCard</th>\n",
       "      <th>IsActiveMember</th>\n",
       "      <th>EstimatedSalary</th>\n",
       "      <th>Exited</th>\n",
       "    </tr>\n",
       "  </thead>\n",
       "  <tbody>\n",
       "    <tr>\n",
       "      <th>count</th>\n",
       "      <td>10000.000000</td>\n",
       "      <td>10000</td>\n",
       "      <td>10000</td>\n",
       "      <td>10000.000000</td>\n",
       "      <td>10000.000000</td>\n",
       "      <td>10000.000000</td>\n",
       "      <td>10000.000000</td>\n",
       "      <td>10000.00000</td>\n",
       "      <td>10000.000000</td>\n",
       "      <td>10000.000000</td>\n",
       "      <td>10000.000000</td>\n",
       "    </tr>\n",
       "    <tr>\n",
       "      <th>unique</th>\n",
       "      <td>NaN</td>\n",
       "      <td>3</td>\n",
       "      <td>2</td>\n",
       "      <td>NaN</td>\n",
       "      <td>NaN</td>\n",
       "      <td>NaN</td>\n",
       "      <td>NaN</td>\n",
       "      <td>NaN</td>\n",
       "      <td>NaN</td>\n",
       "      <td>NaN</td>\n",
       "      <td>NaN</td>\n",
       "    </tr>\n",
       "    <tr>\n",
       "      <th>top</th>\n",
       "      <td>NaN</td>\n",
       "      <td>France</td>\n",
       "      <td>Male</td>\n",
       "      <td>NaN</td>\n",
       "      <td>NaN</td>\n",
       "      <td>NaN</td>\n",
       "      <td>NaN</td>\n",
       "      <td>NaN</td>\n",
       "      <td>NaN</td>\n",
       "      <td>NaN</td>\n",
       "      <td>NaN</td>\n",
       "    </tr>\n",
       "    <tr>\n",
       "      <th>freq</th>\n",
       "      <td>NaN</td>\n",
       "      <td>5014</td>\n",
       "      <td>5457</td>\n",
       "      <td>NaN</td>\n",
       "      <td>NaN</td>\n",
       "      <td>NaN</td>\n",
       "      <td>NaN</td>\n",
       "      <td>NaN</td>\n",
       "      <td>NaN</td>\n",
       "      <td>NaN</td>\n",
       "      <td>NaN</td>\n",
       "    </tr>\n",
       "    <tr>\n",
       "      <th>mean</th>\n",
       "      <td>650.528800</td>\n",
       "      <td>NaN</td>\n",
       "      <td>NaN</td>\n",
       "      <td>38.921800</td>\n",
       "      <td>5.012800</td>\n",
       "      <td>76485.889288</td>\n",
       "      <td>1.530200</td>\n",
       "      <td>0.70550</td>\n",
       "      <td>0.515100</td>\n",
       "      <td>100090.239881</td>\n",
       "      <td>0.203700</td>\n",
       "    </tr>\n",
       "    <tr>\n",
       "      <th>std</th>\n",
       "      <td>96.653299</td>\n",
       "      <td>NaN</td>\n",
       "      <td>NaN</td>\n",
       "      <td>10.487806</td>\n",
       "      <td>2.892174</td>\n",
       "      <td>62397.405202</td>\n",
       "      <td>0.581654</td>\n",
       "      <td>0.45584</td>\n",
       "      <td>0.499797</td>\n",
       "      <td>57510.492818</td>\n",
       "      <td>0.402769</td>\n",
       "    </tr>\n",
       "    <tr>\n",
       "      <th>min</th>\n",
       "      <td>350.000000</td>\n",
       "      <td>NaN</td>\n",
       "      <td>NaN</td>\n",
       "      <td>18.000000</td>\n",
       "      <td>0.000000</td>\n",
       "      <td>0.000000</td>\n",
       "      <td>1.000000</td>\n",
       "      <td>0.00000</td>\n",
       "      <td>0.000000</td>\n",
       "      <td>11.580000</td>\n",
       "      <td>0.000000</td>\n",
       "    </tr>\n",
       "    <tr>\n",
       "      <th>25%</th>\n",
       "      <td>584.000000</td>\n",
       "      <td>NaN</td>\n",
       "      <td>NaN</td>\n",
       "      <td>32.000000</td>\n",
       "      <td>3.000000</td>\n",
       "      <td>0.000000</td>\n",
       "      <td>1.000000</td>\n",
       "      <td>0.00000</td>\n",
       "      <td>0.000000</td>\n",
       "      <td>51002.110000</td>\n",
       "      <td>0.000000</td>\n",
       "    </tr>\n",
       "    <tr>\n",
       "      <th>50%</th>\n",
       "      <td>652.000000</td>\n",
       "      <td>NaN</td>\n",
       "      <td>NaN</td>\n",
       "      <td>37.000000</td>\n",
       "      <td>5.000000</td>\n",
       "      <td>97198.540000</td>\n",
       "      <td>1.000000</td>\n",
       "      <td>1.00000</td>\n",
       "      <td>1.000000</td>\n",
       "      <td>100193.915000</td>\n",
       "      <td>0.000000</td>\n",
       "    </tr>\n",
       "    <tr>\n",
       "      <th>75%</th>\n",
       "      <td>718.000000</td>\n",
       "      <td>NaN</td>\n",
       "      <td>NaN</td>\n",
       "      <td>44.000000</td>\n",
       "      <td>7.000000</td>\n",
       "      <td>127644.240000</td>\n",
       "      <td>2.000000</td>\n",
       "      <td>1.00000</td>\n",
       "      <td>1.000000</td>\n",
       "      <td>149388.247500</td>\n",
       "      <td>0.000000</td>\n",
       "    </tr>\n",
       "    <tr>\n",
       "      <th>max</th>\n",
       "      <td>850.000000</td>\n",
       "      <td>NaN</td>\n",
       "      <td>NaN</td>\n",
       "      <td>92.000000</td>\n",
       "      <td>10.000000</td>\n",
       "      <td>250898.090000</td>\n",
       "      <td>4.000000</td>\n",
       "      <td>1.00000</td>\n",
       "      <td>1.000000</td>\n",
       "      <td>199992.480000</td>\n",
       "      <td>1.000000</td>\n",
       "    </tr>\n",
       "  </tbody>\n",
       "</table>\n",
       "</div>"
      ],
      "text/plain": [
       "         CreditScore Geography Gender           Age        Tenure  \\\n",
       "count   10000.000000     10000  10000  10000.000000  10000.000000   \n",
       "unique           NaN         3      2           NaN           NaN   \n",
       "top              NaN    France   Male           NaN           NaN   \n",
       "freq             NaN      5014   5457           NaN           NaN   \n",
       "mean      650.528800       NaN    NaN     38.921800      5.012800   \n",
       "std        96.653299       NaN    NaN     10.487806      2.892174   \n",
       "min       350.000000       NaN    NaN     18.000000      0.000000   \n",
       "25%       584.000000       NaN    NaN     32.000000      3.000000   \n",
       "50%       652.000000       NaN    NaN     37.000000      5.000000   \n",
       "75%       718.000000       NaN    NaN     44.000000      7.000000   \n",
       "max       850.000000       NaN    NaN     92.000000     10.000000   \n",
       "\n",
       "              Balance  NumOfProducts    HasCrCard  IsActiveMember  \\\n",
       "count    10000.000000   10000.000000  10000.00000    10000.000000   \n",
       "unique            NaN            NaN          NaN             NaN   \n",
       "top               NaN            NaN          NaN             NaN   \n",
       "freq              NaN            NaN          NaN             NaN   \n",
       "mean     76485.889288       1.530200      0.70550        0.515100   \n",
       "std      62397.405202       0.581654      0.45584        0.499797   \n",
       "min          0.000000       1.000000      0.00000        0.000000   \n",
       "25%          0.000000       1.000000      0.00000        0.000000   \n",
       "50%      97198.540000       1.000000      1.00000        1.000000   \n",
       "75%     127644.240000       2.000000      1.00000        1.000000   \n",
       "max     250898.090000       4.000000      1.00000        1.000000   \n",
       "\n",
       "        EstimatedSalary        Exited  \n",
       "count      10000.000000  10000.000000  \n",
       "unique              NaN           NaN  \n",
       "top                 NaN           NaN  \n",
       "freq                NaN           NaN  \n",
       "mean      100090.239881      0.203700  \n",
       "std        57510.492818      0.402769  \n",
       "min           11.580000      0.000000  \n",
       "25%        51002.110000      0.000000  \n",
       "50%       100193.915000      0.000000  \n",
       "75%       149388.247500      0.000000  \n",
       "max       199992.480000      1.000000  "
      ]
     },
     "execution_count": 10,
     "metadata": {},
     "output_type": "execute_result"
    }
   ],
   "source": [
    "df.describe(include='all')"
   ]
  },
  {
   "cell_type": "code",
   "execution_count": 11,
   "id": "d9a0215d-f77a-4b8e-8fe5-2d536f37b9aa",
   "metadata": {},
   "outputs": [
    {
     "data": {
      "text/plain": [
       "['Geography', 'Gender']"
      ]
     },
     "execution_count": 11,
     "metadata": {},
     "output_type": "execute_result"
    }
   ],
   "source": [
    "#List of categorical features\n",
    "categorical = []\n",
    "for col in df:\n",
    "    if df[col].dtypes == 'object':\n",
    "        categorical.append(col)\n",
    "categorical"
   ]
  },
  {
   "cell_type": "code",
   "execution_count": 12,
   "id": "6f0d597d-107c-468a-a5f3-8f9d89695869",
   "metadata": {},
   "outputs": [
    {
     "data": {
      "text/plain": [
       "['CreditScore',\n",
       " 'Age',\n",
       " 'Tenure',\n",
       " 'Balance',\n",
       " 'NumOfProducts',\n",
       " 'HasCrCard',\n",
       " 'IsActiveMember',\n",
       " 'EstimatedSalary',\n",
       " 'Exited']"
      ]
     },
     "execution_count": 12,
     "metadata": {},
     "output_type": "execute_result"
    }
   ],
   "source": [
    "#List of numerical features\n",
    "numerical = []\n",
    "for col in df:\n",
    "    if df[col].dtypes == 'int64' or df[col].dtypes == 'float64':\n",
    "        numerical.append(col)\n",
    "#Remove CustomerId\n",
    "numerical = numerical[:]\n",
    "numerical"
   ]
  },
  {
   "cell_type": "markdown",
   "id": "958171ed-7dbf-415d-816f-db95db334dcb",
   "metadata": {},
   "source": [
    "**NOTE**\n",
    "<br>\n",
    "HasCrCard, IsActiveMember, and Exited are actually categorical variables."
   ]
  },
  {
   "cell_type": "code",
   "execution_count": 14,
   "id": "b9ffc545-cbff-4571-90d8-85ef536aab94",
   "metadata": {},
   "outputs": [],
   "source": [
    "#Transfer HasCrCard, IsActiveMember, and Exited to the categorical list\n",
    "for i in ['HasCrCard','IsActiveMember','Exited']:\n",
    "    numerical.remove(i)\n",
    "for i in ['HasCrCard','IsActiveMember','Exited']:\n",
    "    categorical.append(i)"
   ]
  },
  {
   "cell_type": "code",
   "execution_count": 15,
   "id": "d69dddbd-e490-4f2b-9e9b-8a7c87eb18e3",
   "metadata": {},
   "outputs": [
    {
     "name": "stdout",
     "output_type": "stream",
     "text": [
      "Numerical= ['CreditScore', 'Age', 'Tenure', 'Balance', 'NumOfProducts', 'EstimatedSalary']\n",
      "Categorial ['Geography', 'Gender', 'HasCrCard', 'IsActiveMember', 'Exited']\n"
     ]
    }
   ],
   "source": [
    "print('Numerical=', numerical)\n",
    "print('Categorial', categorical)"
   ]
  },
  {
   "cell_type": "markdown",
   "id": "768cac1a-619f-4895-91c1-2de038978950",
   "metadata": {},
   "source": [
    "## Exploratory Data Analysis"
   ]
  },
  {
   "cell_type": "markdown",
   "id": "243edce7-b777-4054-80f3-66db55645968",
   "metadata": {},
   "source": [
    "### 1. Dispersion of data"
   ]
  },
  {
   "cell_type": "code",
   "execution_count": 16,
   "id": "80246104-35a0-4025-a105-bbec542bbb77",
   "metadata": {},
   "outputs": [
    {
     "data": {
      "text/plain": [
       "array([0.14856908, 0.26944494, 0.57692901, 0.81576204, 0.38009755,\n",
       "       0.57455769])"
      ]
     },
     "execution_count": 16,
     "metadata": {},
     "output_type": "execute_result"
    }
   ],
   "source": [
    "#Check Coefficient of Variation\n",
    "from scipy.stats import variation\n",
    "variation(df[numerical])"
   ]
  },
  {
   "cell_type": "markdown",
   "id": "96d9e2c3-475f-4dd6-929f-98392aa6b387",
   "metadata": {},
   "source": [
    "**NOTE**\n",
    "<br>\n",
    "`Balance`is the most dispersed varibale in the dataset."
   ]
  },
  {
   "cell_type": "markdown",
   "id": "d364ee14-e907-438a-ad26-857b9cf7bac8",
   "metadata": {},
   "source": [
    "### 2.  Numerical Variables (Continous and Discrete)"
   ]
  },
  {
   "cell_type": "markdown",
   "id": "b5648bf5-eaff-4185-a7d1-e9dc243ebbad",
   "metadata": {},
   "source": [
    "**Numerical Columns**: CreditScore, Age, Tenure, Balance, NumOfProducts, EstimatedSalary"
   ]
  },
  {
   "cell_type": "code",
   "execution_count": 17,
   "id": "f431b346-faa3-4f7d-ae58-676aa149c2b2",
   "metadata": {},
   "outputs": [
    {
     "data": {
      "image/png": "[encoded data removed]",
      "text/plain": [
       "<Figure size 1500x750 with 6 Axes>"
      ]
     },
     "metadata": {},
     "output_type": "display_data"
    }
   ],
   "source": [
    "#Boxplots for Continuos Variables\n",
    "fig, ax = plt.subplots(2,3, figsize=(15,7.5))\n",
    "\n",
    "ax[0,0].boxplot(df['CreditScore'])\n",
    "ax[0,0].set_title('Credit Score')\n",
    "ax[0,0].set_xticks([])\n",
    "\n",
    "ax[0,1].boxplot(df['Age'])\n",
    "ax[0,1].set_title('Age')\n",
    "ax[0,1].set_xticks([])\n",
    "\n",
    "ax[0,2].boxplot(df['Tenure'])\n",
    "ax[0,2].set_title('Tenure')\n",
    "ax[0,2].set_xticks([])\n",
    "\n",
    "ax[1,0].boxplot(df['Balance'])\n",
    "ax[1,0].set_title('Balance')\n",
    "ax[1,0].set_xticks([])\n",
    "\n",
    "ax[1,1].boxplot(df['NumOfProducts'])\n",
    "ax[1,1].set_title('No. Of Products')\n",
    "ax[1,1].set_xticks([])\n",
    "\n",
    "ax[1,2].boxplot(df['EstimatedSalary'])\n",
    "ax[1,2].set_title('Estimated Salary')\n",
    "ax[1,2].set_xticks([])\n",
    "\n",
    "\n",
    "plt.show();"
   ]
  },
  {
   "cell_type": "code",
   "execution_count": 18,
   "id": "9d8a8426-2079-44b4-a9a9-74071551b97b",
   "metadata": {},
   "outputs": [
    {
     "data": {
      "text/plain": [
       "12.0"
      ]
     },
     "execution_count": 18,
     "metadata": {},
     "output_type": "execute_result"
    }
   ],
   "source": [
    "#Calculate outliers for Age\n",
    "age_iqr = np.quantile(df['Age'],0.75) - np.quantile(df['Age'],0.25)\n",
    "age_iqr"
   ]
  },
  {
   "cell_type": "code",
   "execution_count": 19,
   "id": "e7d251b3-4241-4a6e-9e74-5a1f66e3c67e",
   "metadata": {},
   "outputs": [
    {
     "data": {
      "text/plain": [
       "32.0"
      ]
     },
     "execution_count": 19,
     "metadata": {},
     "output_type": "execute_result"
    }
   ],
   "source": [
    "age_q1 = np.quantile(df['Age'],0.25)\n",
    "age_q1"
   ]
  },
  {
   "cell_type": "code",
   "execution_count": 20,
   "id": "ea9dc4ed-8d65-4a57-bdae-6460e5ff1377",
   "metadata": {},
   "outputs": [
    {
     "data": {
      "text/plain": [
       "44.0"
      ]
     },
     "execution_count": 20,
     "metadata": {},
     "output_type": "execute_result"
    }
   ],
   "source": [
    "age_q3 = np.quantile(df['Age'],0.75)\n",
    "age_q3"
   ]
  },
  {
   "cell_type": "code",
   "execution_count": 21,
   "id": "1d4ad18a-5e1a-4e22-85a5-b79b5d4976fb",
   "metadata": {},
   "outputs": [
    {
     "data": {
      "text/plain": [
       "14.0"
      ]
     },
     "execution_count": 21,
     "metadata": {},
     "output_type": "execute_result"
    }
   ],
   "source": [
    "age_lower_bound = age_q1 - (1.5 * age_iqr)\n",
    "age_lower_bound"
   ]
  },
  {
   "cell_type": "code",
   "execution_count": 22,
   "id": "29022dad-7e96-46a0-8122-5b3bcdb94570",
   "metadata": {},
   "outputs": [
    {
     "data": {
      "text/plain": [
       "62.0"
      ]
     },
     "execution_count": 22,
     "metadata": {},
     "output_type": "execute_result"
    }
   ],
   "source": [
    "age_upper_bound = age_q3 + (1.5 * age_iqr)\n",
    "age_upper_bound"
   ]
  },
  {
   "cell_type": "code",
   "execution_count": 23,
   "id": "1c730ac0-adb6-4042-b980-2e8699990325",
   "metadata": {},
   "outputs": [
    {
     "data": {
      "text/plain": [
       "Exited\n",
       "0    286\n",
       "1     73\n",
       "Name: Age, dtype: int64"
      ]
     },
     "execution_count": 23,
     "metadata": {},
     "output_type": "execute_result"
    }
   ],
   "source": [
    "#How many clients are above the upper limit\n",
    "retired = df.query(\"Age > 62\")\n",
    "retired.groupby('Exited').count()['Age']"
   ]
  },
  {
   "cell_type": "markdown",
   "id": "c3deff14-600a-43db-bf17-ef844a778b33",
   "metadata": {},
   "source": [
    "**NOTE**\n",
    "<br>\n",
    "`Age` boxplot: Most of the members are working class. Members older than 62 years are outliers. This is the age close to retirement. 359 out 1000 are close to retiremenent age. Only 73 of customers above 62 exited the bank."
   ]
  },
  {
   "cell_type": "code",
   "execution_count": 24,
   "id": "96a0ceeb-ae7f-43f5-88cd-60b0d12d9b3c",
   "metadata": {},
   "outputs": [
    {
     "data": {
      "text/html": [
       "<div>\n",
       "<style scoped>\n",
       "    .dataframe tbody tr th:only-of-type {\n",
       "        vertical-align: middle;\n",
       "    }\n",
       "\n",
       "    .dataframe tbody tr th {\n",
       "        vertical-align: top;\n",
       "    }\n",
       "\n",
       "    .dataframe thead th {\n",
       "        text-align: right;\n",
       "    }\n",
       "</style>\n",
       "<table border=\"1\" class=\"dataframe\">\n",
       "  <thead>\n",
       "    <tr style=\"text-align: right;\">\n",
       "      <th></th>\n",
       "      <th>CreditScore</th>\n",
       "      <th>Age</th>\n",
       "      <th>Tenure</th>\n",
       "      <th>Balance</th>\n",
       "      <th>NumOfProducts</th>\n",
       "      <th>EstimatedSalary</th>\n",
       "    </tr>\n",
       "  </thead>\n",
       "  <tbody>\n",
       "    <tr>\n",
       "      <th>CreditScore</th>\n",
       "      <td>1.000000</td>\n",
       "      <td>-0.003965</td>\n",
       "      <td>0.000842</td>\n",
       "      <td>0.006268</td>\n",
       "      <td>0.012238</td>\n",
       "      <td>-0.001384</td>\n",
       "    </tr>\n",
       "    <tr>\n",
       "      <th>Age</th>\n",
       "      <td>-0.003965</td>\n",
       "      <td>1.000000</td>\n",
       "      <td>-0.009997</td>\n",
       "      <td>0.028308</td>\n",
       "      <td>-0.030680</td>\n",
       "      <td>-0.007201</td>\n",
       "    </tr>\n",
       "    <tr>\n",
       "      <th>Tenure</th>\n",
       "      <td>0.000842</td>\n",
       "      <td>-0.009997</td>\n",
       "      <td>1.000000</td>\n",
       "      <td>-0.012254</td>\n",
       "      <td>0.013444</td>\n",
       "      <td>0.007784</td>\n",
       "    </tr>\n",
       "    <tr>\n",
       "      <th>Balance</th>\n",
       "      <td>0.006268</td>\n",
       "      <td>0.028308</td>\n",
       "      <td>-0.012254</td>\n",
       "      <td>1.000000</td>\n",
       "      <td>-0.304180</td>\n",
       "      <td>0.012797</td>\n",
       "    </tr>\n",
       "    <tr>\n",
       "      <th>NumOfProducts</th>\n",
       "      <td>0.012238</td>\n",
       "      <td>-0.030680</td>\n",
       "      <td>0.013444</td>\n",
       "      <td>-0.304180</td>\n",
       "      <td>1.000000</td>\n",
       "      <td>0.014204</td>\n",
       "    </tr>\n",
       "    <tr>\n",
       "      <th>EstimatedSalary</th>\n",
       "      <td>-0.001384</td>\n",
       "      <td>-0.007201</td>\n",
       "      <td>0.007784</td>\n",
       "      <td>0.012797</td>\n",
       "      <td>0.014204</td>\n",
       "      <td>1.000000</td>\n",
       "    </tr>\n",
       "  </tbody>\n",
       "</table>\n",
       "</div>"
      ],
      "text/plain": [
       "                 CreditScore       Age    Tenure   Balance  NumOfProducts  \\\n",
       "CreditScore         1.000000 -0.003965  0.000842  0.006268       0.012238   \n",
       "Age                -0.003965  1.000000 -0.009997  0.028308      -0.030680   \n",
       "Tenure              0.000842 -0.009997  1.000000 -0.012254       0.013444   \n",
       "Balance             0.006268  0.028308 -0.012254  1.000000      -0.304180   \n",
       "NumOfProducts       0.012238 -0.030680  0.013444 -0.304180       1.000000   \n",
       "EstimatedSalary    -0.001384 -0.007201  0.007784  0.012797       0.014204   \n",
       "\n",
       "                 EstimatedSalary  \n",
       "CreditScore            -0.001384  \n",
       "Age                    -0.007201  \n",
       "Tenure                  0.007784  \n",
       "Balance                 0.012797  \n",
       "NumOfProducts           0.014204  \n",
       "EstimatedSalary         1.000000  "
      ]
     },
     "execution_count": 24,
     "metadata": {},
     "output_type": "execute_result"
    }
   ],
   "source": [
    "#Calculate the correlation table for numerical values\n",
    "df[['CreditScore','Age','Tenure','Balance','NumOfProducts','EstimatedSalary']].corr()"
   ]
  },
  {
   "cell_type": "markdown",
   "id": "3ededf0c-a5f2-4800-84ef-12e35adacd9f",
   "metadata": {},
   "source": [
    "**NOTE**\n",
    "<br>\n",
    "There is no linear relationship between the varibles. Therefore a linear regression is not suitable for this dataset."
   ]
  },
  {
   "cell_type": "markdown",
   "id": "216d37f5-fdba-46c5-a2bc-f4e19a7f5d85",
   "metadata": {},
   "source": [
    "### 3. Categorical Variables (Nominal and Ordinal)"
   ]
  },
  {
   "cell_type": "markdown",
   "id": "497e374a-6d6a-4d66-89e0-51a68fd7e508",
   "metadata": {},
   "source": [
    "**Categorical columns**: Geography, Gender, HasCrCard, IsActiveMember, Exited"
   ]
  },
  {
   "cell_type": "code",
   "execution_count": 25,
   "id": "3935915b-f19c-4afd-81b5-ff9907d7879c",
   "metadata": {},
   "outputs": [
    {
     "name": "stdout",
     "output_type": "stream",
     "text": [
      "  Geography  count\n",
      "0    France   5014\n",
      "1   Germany   2509\n",
      "2     Spain   2477\n",
      "   Gender  count\n",
      "0    Male   5457\n",
      "1  Female   4543\n",
      "   HasCrCard  count\n",
      "0          1   7055\n",
      "1          0   2945\n",
      "   IsActiveMember  count\n",
      "0               1   5151\n",
      "1               0   4849\n",
      "   Exited  count\n",
      "0       0   7963\n",
      "1       1   2037\n"
     ]
    }
   ],
   "source": [
    "#Create Dataframe for Categorical Variables\n",
    "Geography = df['Geography'].value_counts().to_frame()\n",
    "Geography = Geography.reset_index()\n",
    "\n",
    "Gender = df['Gender'].value_counts().to_frame()\n",
    "Gender = Gender.reset_index()\n",
    "\n",
    "HasCreditCard = df['HasCrCard'].value_counts().to_frame()\n",
    "HasCreditCard = HasCreditCard.reset_index()\n",
    "\n",
    "IsActiveMember = df['IsActiveMember'].value_counts().to_frame()\n",
    "IsActiveMember = IsActiveMember.reset_index()\n",
    "\n",
    "Exited = df['Exited'].value_counts().to_frame()\n",
    "Exited = Exited.reset_index()\n",
    "\n",
    "print(Geography)\n",
    "print(Gender)\n",
    "print(HasCreditCard)\n",
    "print(IsActiveMember)\n",
    "print(Exited)\n"
   ]
  },
  {
   "cell_type": "code",
   "execution_count": 26,
   "id": "5cd7b5db-3ca7-48ee-9ad4-b673254a1dba",
   "metadata": {
    "scrolled": true
   },
   "outputs": [
    {
     "data": {
      "image/png": "[encoded data removed]",
      "text/plain": [
       "<Figure size 1500x300 with 5 Axes>"
      ]
     },
     "metadata": {},
     "output_type": "display_data"
    }
   ],
   "source": [
    "#Create bar graphs for Categorical Variables\n",
    "fig, ax = plt.subplots(1,5, figsize=(15,3))\n",
    "\n",
    "ax[0].bar(Geography.iloc[:,0], Geography.iloc[:,1], edgecolor='black')\n",
    "ax[0].set_title('Gegraphy')\n",
    "# ax[3].set_xticks([0,1], ['No','Yes'])\n",
    "\n",
    "ax[1].bar(Gender.iloc[:,0], Gender.iloc[:,1], edgecolor='black')\n",
    "ax[1].set_title('Gender')\n",
    "ax[1].set_xticks([0,1], ['Male','Female'])\n",
    "\n",
    "ax[2].bar(HasCreditCard.iloc[:,0], HasCreditCard.iloc[:,1], edgecolor='black')\n",
    "ax[2].set_title('Credit Card Holders')\n",
    "ax[2].set_xticks([0,1], ['No','Yes'])\n",
    "\n",
    "ax[3].bar(IsActiveMember.iloc[:,0], IsActiveMember.iloc[:,1], edgecolor='black')\n",
    "ax[3].set_title('Active Members')\n",
    "ax[3].set_xticks([0,1], ['No','Yes'])\n",
    "\n",
    "ax[4].bar(Exited.iloc[:,0], Exited.iloc[:,1], edgecolor='black')\n",
    "ax[4].set_title('Exited Members')\n",
    "ax[4].set_xticks([0,1], ['No','Yes'])\n",
    "\n",
    "\n",
    "fig.tight_layout()\n",
    "\n",
    "plt.show();"
   ]
  },
  {
   "cell_type": "markdown",
   "id": "80c5617a-232f-4602-88e1-69be6ba3cfe1",
   "metadata": {},
   "source": [
    "**NOTE**\n",
    "<br>\n",
    "`Exited` is imbalanced; thus, stratified sampling will be used when splitting the data."
   ]
  },
  {
   "cell_type": "code",
   "execution_count": 27,
   "id": "235f2c70-61b9-4394-9051-496f733923e2",
   "metadata": {},
   "outputs": [
    {
     "name": "stdout",
     "output_type": "stream",
     "text": [
      "The P-Value of the ChiSq Test is: 3.830317605354266e-66\n"
     ]
    }
   ],
   "source": [
    "# Cross tabulation\n",
    "CrosstabResult=pd.crosstab(df['Exited'], df['Geography'])\n",
    "\n",
    "# importing the required function\n",
    "from scipy.stats import chi2_contingency\n",
    " \n",
    "# Performing Chi-sq test\n",
    "ChiSqResult = chi2_contingency(CrosstabResult)\n",
    " \n",
    "# P-Value is the Probability of H0 being True\n",
    "# If P-Value&gt;0.05 then only we Accept the assumption(H0)\n",
    "print('The P-Value of the ChiSq Test is:', ChiSqResult[1])\n"
   ]
  },
  {
   "cell_type": "code",
   "execution_count": 28,
   "id": "59686ae7-128f-444f-968a-5a43617ca090",
   "metadata": {},
   "outputs": [
    {
     "name": "stdout",
     "output_type": "stream",
     "text": [
      "The P-Value of the ChiSq Test is: 2.2482100097131755e-26\n"
     ]
    }
   ],
   "source": [
    "# Cross tabulation \n",
    "CrosstabResult=pd.crosstab(df['Exited'], df['Gender'])\n",
    "\n",
    "# importing the required function\n",
    "from scipy.stats import chi2_contingency\n",
    " \n",
    "# Performing Chi-sq test\n",
    "ChiSqResult = chi2_contingency(CrosstabResult)\n",
    " \n",
    "# P-Value is the Probability of H0 being True\n",
    "# If P-Value&gt;0.05 then only we Accept the assumption(H0)\n",
    "print('The P-Value of the ChiSq Test is:', ChiSqResult[1])"
   ]
  },
  {
   "cell_type": "code",
   "execution_count": 29,
   "id": "3e9e5a0e-b546-4647-aaca-f881d6f6594b",
   "metadata": {},
   "outputs": [
    {
     "name": "stdout",
     "output_type": "stream",
     "text": [
      "The P-Value of the ChiSq Test is: 0.49237236141554697\n"
     ]
    }
   ],
   "source": [
    "# Cross tabulation \n",
    "CrosstabResult=pd.crosstab(df['Exited'], df['HasCrCard'])\n",
    "\n",
    "# importing the required function\n",
    "from scipy.stats import chi2_contingency\n",
    " \n",
    "# Performing Chi-sq test\n",
    "ChiSqResult = chi2_contingency(CrosstabResult)\n",
    " \n",
    "# P-Value is the Probability of H0 being True\n",
    "# If P-Value&gt;0.05 then only we Accept the assumption(H0)\n",
    "print('The P-Value of the ChiSq Test is:', ChiSqResult[1])"
   ]
  },
  {
   "cell_type": "code",
   "execution_count": 30,
   "id": "4b09b0f1-6f5a-467b-99eb-bef8065bddcb",
   "metadata": {},
   "outputs": [
    {
     "name": "stdout",
     "output_type": "stream",
     "text": [
      "The P-Value of the ChiSq Test is: 8.785858269303705e-55\n"
     ]
    }
   ],
   "source": [
    "# Cross tabulation between surname and geography\n",
    "CrosstabResult=pd.crosstab(df['Exited'], df['IsActiveMember'])\n",
    "\n",
    "# importing the required function\n",
    "from scipy.stats import chi2_contingency\n",
    " \n",
    "# Performing Chi-sq test\n",
    "ChiSqResult = chi2_contingency(CrosstabResult)\n",
    " \n",
    "# P-Value is the Probability of H0 being True\n",
    "# If P-Value&gt;0.05 then only we Accept the assumption(H0)\n",
    "print('The P-Value of the ChiSq Test is:', ChiSqResult[1])"
   ]
  },
  {
   "cell_type": "markdown",
   "id": "a92bb676-88f6-4944-9ef7-24b578e072b7",
   "metadata": {},
   "source": [
    "**NOTE**\n",
    "<br>\n",
    "Exited vs. Geography: p-value < 0.05; Accept the Null hypothesis, which is that the categories are not related. They are not related.<br>\n",
    "Exited vs. Gender: p-value < 0.05; Accept the Null hypothesis, which is that the categories are not related. They are not related.<br>\n",
    "Exited vs. HasCrCard: p-value > 0.05; Reject the Null hypothesis, which is that the categories are not related. They are related.<br>\n",
    "Exited vs. IsActiveMember: p-value < 0.05; Accept the Null hypothesis, which is that the categories are not related. They are not related.<br>"
   ]
  },
  {
   "cell_type": "markdown",
   "id": "c7a9f3b9-ca6e-49cc-8789-5d95dde61f9c",
   "metadata": {},
   "source": [
    "## Train,Test and Export Model"
   ]
  },
  {
   "cell_type": "markdown",
   "id": "6af3ac0b-e619-4ad7-8ad4-4a45a5244810",
   "metadata": {},
   "source": [
    "### 1. Split Dataset"
   ]
  },
  {
   "cell_type": "code",
   "execution_count": 31,
   "id": "a3611061-c2ac-436e-935f-4d512802530d",
   "metadata": {},
   "outputs": [
    {
     "data": {
      "text/html": [
       "<div>\n",
       "<style scoped>\n",
       "    .dataframe tbody tr th:only-of-type {\n",
       "        vertical-align: middle;\n",
       "    }\n",
       "\n",
       "    .dataframe tbody tr th {\n",
       "        vertical-align: top;\n",
       "    }\n",
       "\n",
       "    .dataframe thead th {\n",
       "        text-align: right;\n",
       "    }\n",
       "</style>\n",
       "<table border=\"1\" class=\"dataframe\">\n",
       "  <thead>\n",
       "    <tr style=\"text-align: right;\">\n",
       "      <th></th>\n",
       "      <th>CreditScore</th>\n",
       "      <th>Geography</th>\n",
       "      <th>Gender</th>\n",
       "      <th>Age</th>\n",
       "      <th>Tenure</th>\n",
       "      <th>Balance</th>\n",
       "      <th>NumOfProducts</th>\n",
       "      <th>HasCrCard</th>\n",
       "      <th>IsActiveMember</th>\n",
       "      <th>EstimatedSalary</th>\n",
       "      <th>Exited</th>\n",
       "    </tr>\n",
       "  </thead>\n",
       "  <tbody>\n",
       "    <tr>\n",
       "      <th>0</th>\n",
       "      <td>619</td>\n",
       "      <td>France</td>\n",
       "      <td>Female</td>\n",
       "      <td>42</td>\n",
       "      <td>2</td>\n",
       "      <td>0.00</td>\n",
       "      <td>1</td>\n",
       "      <td>1</td>\n",
       "      <td>1</td>\n",
       "      <td>101348.88</td>\n",
       "      <td>1</td>\n",
       "    </tr>\n",
       "    <tr>\n",
       "      <th>1</th>\n",
       "      <td>608</td>\n",
       "      <td>Spain</td>\n",
       "      <td>Female</td>\n",
       "      <td>41</td>\n",
       "      <td>1</td>\n",
       "      <td>83807.86</td>\n",
       "      <td>1</td>\n",
       "      <td>0</td>\n",
       "      <td>1</td>\n",
       "      <td>112542.58</td>\n",
       "      <td>0</td>\n",
       "    </tr>\n",
       "    <tr>\n",
       "      <th>2</th>\n",
       "      <td>502</td>\n",
       "      <td>France</td>\n",
       "      <td>Female</td>\n",
       "      <td>42</td>\n",
       "      <td>8</td>\n",
       "      <td>159660.80</td>\n",
       "      <td>3</td>\n",
       "      <td>1</td>\n",
       "      <td>0</td>\n",
       "      <td>113931.57</td>\n",
       "      <td>1</td>\n",
       "    </tr>\n",
       "    <tr>\n",
       "      <th>3</th>\n",
       "      <td>699</td>\n",
       "      <td>France</td>\n",
       "      <td>Female</td>\n",
       "      <td>39</td>\n",
       "      <td>1</td>\n",
       "      <td>0.00</td>\n",
       "      <td>2</td>\n",
       "      <td>0</td>\n",
       "      <td>0</td>\n",
       "      <td>93826.63</td>\n",
       "      <td>0</td>\n",
       "    </tr>\n",
       "    <tr>\n",
       "      <th>4</th>\n",
       "      <td>850</td>\n",
       "      <td>Spain</td>\n",
       "      <td>Female</td>\n",
       "      <td>43</td>\n",
       "      <td>2</td>\n",
       "      <td>125510.82</td>\n",
       "      <td>1</td>\n",
       "      <td>1</td>\n",
       "      <td>1</td>\n",
       "      <td>79084.10</td>\n",
       "      <td>0</td>\n",
       "    </tr>\n",
       "  </tbody>\n",
       "</table>\n",
       "</div>"
      ],
      "text/plain": [
       "   CreditScore Geography  Gender  Age  Tenure    Balance  NumOfProducts  \\\n",
       "0          619    France  Female   42       2       0.00              1   \n",
       "1          608     Spain  Female   41       1   83807.86              1   \n",
       "2          502    France  Female   42       8  159660.80              3   \n",
       "3          699    France  Female   39       1       0.00              2   \n",
       "4          850     Spain  Female   43       2  125510.82              1   \n",
       "\n",
       "   HasCrCard  IsActiveMember  EstimatedSalary  Exited  \n",
       "0          1               1        101348.88       1  \n",
       "1          0               1        112542.58       0  \n",
       "2          1               0        113931.57       1  \n",
       "3          0               0         93826.63       0  \n",
       "4          1               1         79084.10       0  "
      ]
     },
     "execution_count": 31,
     "metadata": {},
     "output_type": "execute_result"
    }
   ],
   "source": [
    "df.head()"
   ]
  },
  {
   "cell_type": "code",
   "execution_count": 32,
   "id": "9ea5c354-b779-48ef-9f43-644898532c41",
   "metadata": {},
   "outputs": [
    {
     "data": {
      "text/plain": [
       "(10000, 11)"
      ]
     },
     "execution_count": 32,
     "metadata": {},
     "output_type": "execute_result"
    }
   ],
   "source": [
    "df.shape"
   ]
  },
  {
   "cell_type": "code",
   "execution_count": 33,
   "id": "14ce2b22-1fa8-435b-92e7-29ed2ea19b3b",
   "metadata": {},
   "outputs": [],
   "source": [
    "#Import libraries\n",
    "from sklearn.model_selection import train_test_split"
   ]
  },
  {
   "cell_type": "code",
   "execution_count": 34,
   "id": "0a93fbe7-fcb2-4292-ada7-af8e57085055",
   "metadata": {},
   "outputs": [],
   "source": [
    "#Create dependent and independent variable sets\n",
    "x = df.drop(['Exited'], axis=1)\n",
    "y = df['Exited']"
   ]
  },
  {
   "cell_type": "code",
   "execution_count": 35,
   "id": "83264b19-ff1b-4353-a7d1-862154478ba1",
   "metadata": {},
   "outputs": [],
   "source": [
    "#Split variable sets into train and test data. Stratified sampling used.\n",
    "x_train, x_test, y_train, y_test = train_test_split(x, y, shuffle=True,test_size=0.2, stratify=y)"
   ]
  },
  {
   "cell_type": "code",
   "execution_count": 36,
   "id": "1de64f9c-f065-46ba-9369-05bab9a18c74",
   "metadata": {},
   "outputs": [
    {
     "data": {
      "text/plain": [
       "(8000, 10)"
      ]
     },
     "execution_count": 36,
     "metadata": {},
     "output_type": "execute_result"
    }
   ],
   "source": [
    "x_train.shape"
   ]
  },
  {
   "cell_type": "code",
   "execution_count": 37,
   "id": "49a861aa-6ab5-42c6-8c49-9574a31b0cd6",
   "metadata": {},
   "outputs": [
    {
     "data": {
      "text/plain": [
       "(2000, 10)"
      ]
     },
     "execution_count": 37,
     "metadata": {},
     "output_type": "execute_result"
    }
   ],
   "source": [
    "x_test.shape"
   ]
  },
  {
   "cell_type": "markdown",
   "id": "aae67cf4-3fab-4010-aa58-4882224f5ea5",
   "metadata": {},
   "source": [
    "### 2. Import Libraries"
   ]
  },
  {
   "cell_type": "code",
   "execution_count": 42,
   "id": "22264a2b-126c-4287-bcf7-5fe77e98adc8",
   "metadata": {},
   "outputs": [],
   "source": [
    "#Import libraries\n",
    "from sklearn.preprocessing import StandardScaler\n",
    "from sklearn.preprocessing import OneHotEncoder\n",
    "from sklearn.impute import SimpleImputer\n",
    "\n",
    "from sklearn.pipeline import Pipeline\n",
    "from sklearn.compose import ColumnTransformer\n",
    "\n",
    "from sklearn.ensemble import RandomForestClassifier\n",
    "from sklearn.tree import DecisionTreeClassifier\n",
    "from sklearn.svm import SVC\n",
    "from sklearn.naive_bayes import GaussianNB\n",
    "from sklearn.linear_model import LogisticRegression"
   ]
  },
  {
   "cell_type": "code",
   "execution_count": 39,
   "id": "a87c47d7-1415-4625-a044-177a0f51676e",
   "metadata": {},
   "outputs": [],
   "source": [
    "from sklearn.metrics import accuracy_score"
   ]
  },
  {
   "cell_type": "markdown",
   "id": "616b1b68-2b96-42af-bac6-0769c9ee8dab",
   "metadata": {},
   "source": [
    "### 3. Transformation Pipelines"
   ]
  },
  {
   "cell_type": "code",
   "execution_count": 46,
   "id": "8a053ad0-cc44-4b66-a85d-c440abfa0281",
   "metadata": {},
   "outputs": [],
   "source": [
    "numeric_transformer=Pipeline(\n",
    "    steps=[(\"scaler\", StandardScaler())]\n",
    ")"
   ]
  },
  {
   "cell_type": "code",
   "execution_count": 52,
   "id": "5847410d-cafa-4786-a5e6-a96b39fe694e",
   "metadata": {},
   "outputs": [],
   "source": [
    "categorical_transformer=Pipeline(\n",
    "    steps=[(\"encoder\", OneHotEncoder(handle_unknown=\"ignore\"))]\n",
    ")"
   ]
  },
  {
   "cell_type": "code",
   "execution_count": 73,
   "id": "8c8250c2-ffaa-4851-9529-9b804204078f",
   "metadata": {},
   "outputs": [],
   "source": [
    "preprocessor = ColumnTransformer(\n",
    "    transformers=[\n",
    "        (\"num\", numeric_transformer,['CreditScore','Age','Tenure','Balance','NumOfProducts','EstimatedSalary']),\n",
    "        (\"cat\", categorical_transformer, ['Geography','Gender'])]\n",
    ")"
   ]
  },
  {
   "cell_type": "markdown",
   "id": "be81142e-6cf3-437e-b6f8-6551e230a8bb",
   "metadata": {},
   "source": [
    "### 4. Transform Data"
   ]
  },
  {
   "cell_type": "code",
   "execution_count": 75,
   "id": "b400376c-4685-4987-8bd8-3f5568cb4884",
   "metadata": {},
   "outputs": [],
   "source": [
    "x_train_transformed = preprocessor.fit_transform(x_train)"
   ]
  },
  {
   "cell_type": "code",
   "execution_count": 77,
   "id": "83bf0262-067c-4167-aa77-b2f6a560576a",
   "metadata": {},
   "outputs": [],
   "source": [
    "x_test_transformed = preprocessor.fit_transform(x_test)"
   ]
  },
  {
   "cell_type": "markdown",
   "id": "79f0edd6-8764-46fc-8de7-6adf8ca89d4c",
   "metadata": {},
   "source": [
    "#### 5.1 Support Vector Classifier"
   ]
  },
  {
   "cell_type": "code",
   "execution_count": 82,
   "id": "9d78e06e-e5cd-446c-ac22-c0cda319f951",
   "metadata": {},
   "outputs": [],
   "source": [
    "#Train the model\n",
    "svm_model = SVC().fit(x_train_transformed,y_train)"
   ]
  },
  {
   "cell_type": "code",
   "execution_count": 83,
   "id": "0407f0f7-8044-4518-a1c4-a552e702a5a0",
   "metadata": {},
   "outputs": [
    {
     "data": {
      "text/plain": [
       "array([0, 0, 0, ..., 0, 0, 0], dtype=int64)"
      ]
     },
     "execution_count": 83,
     "metadata": {},
     "output_type": "execute_result"
    }
   ],
   "source": [
    "#Predict values\n",
    "y_pred = svm_model.predict(x_test_transformed)\n",
    "y_pred"
   ]
  },
  {
   "cell_type": "code",
   "execution_count": 84,
   "id": "499bad6b-5e13-44e3-b772-9acb1d66a710",
   "metadata": {},
   "outputs": [
    {
     "name": "stdout",
     "output_type": "stream",
     "text": [
      "Accuracy Score: 0.8435\n"
     ]
    }
   ],
   "source": [
    "#Accuracy score\n",
    "score = accuracy_score(y_test, y_pred)\n",
    "print(\"Accuracy Score:\", score)"
   ]
  },
  {
   "cell_type": "markdown",
   "id": "f6d224ee-3f94-4f9f-afb8-19cd00060f2d",
   "metadata": {},
   "source": [
    "#### 5.2 Gaussian Naive Bayes"
   ]
  },
  {
   "cell_type": "code",
   "execution_count": 85,
   "id": "ec8eaf09-15bb-46f8-9552-58678df11af5",
   "metadata": {},
   "outputs": [],
   "source": [
    "#Train the model\n",
    "nb_model = GaussianNB().fit(x_train_transformed,y_train)"
   ]
  },
  {
   "cell_type": "code",
   "execution_count": 86,
   "id": "976f4603-af53-4acb-aaf9-4acbe3c9dcc5",
   "metadata": {},
   "outputs": [],
   "source": [
    "#Predict values\n",
    "y_pred = nb_model.predict(x_test_transformed)"
   ]
  },
  {
   "cell_type": "code",
   "execution_count": 87,
   "id": "646ca882-c3e4-49bf-bbaf-59c2951d8e20",
   "metadata": {},
   "outputs": [
    {
     "name": "stdout",
     "output_type": "stream",
     "text": [
      "Accuracy Score: 0.8105\n"
     ]
    }
   ],
   "source": [
    "#Accuracy score\n",
    "score = accuracy_score(y_test, y_pred)\n",
    "print(\"Accuracy Score:\", score)"
   ]
  },
  {
   "cell_type": "markdown",
   "id": "8dc27a5e-ec68-47ea-b960-307329db6509",
   "metadata": {},
   "source": [
    "#### 5.3 Logistic Regression"
   ]
  },
  {
   "cell_type": "code",
   "execution_count": 88,
   "id": "7f0bb313-0560-44bc-8844-728fbc6e2218",
   "metadata": {},
   "outputs": [],
   "source": [
    "#train the model\n",
    "lr_model = LogisticRegression().fit(x_train_transformed, y_train)"
   ]
  },
  {
   "cell_type": "code",
   "execution_count": 89,
   "id": "410d4955-f3cf-4a98-b771-f5b26946af7b",
   "metadata": {},
   "outputs": [],
   "source": [
    "#Predict values\n",
    "y_pred = lr_model.predict(x_test_transformed)"
   ]
  },
  {
   "cell_type": "code",
   "execution_count": 90,
   "id": "df1af4a3-bf70-4f69-9f12-0270fc5cecc8",
   "metadata": {},
   "outputs": [
    {
     "name": "stdout",
     "output_type": "stream",
     "text": [
      "Accuracy Score: 0.799\n"
     ]
    }
   ],
   "source": [
    "#Accuracy score\n",
    "score = accuracy_score(y_test, y_pred)\n",
    "print(\"Accuracy Score:\", score)"
   ]
  },
  {
   "cell_type": "markdown",
   "id": "2f171e22-cc1e-4b1a-b1cf-cfc8a4850cde",
   "metadata": {},
   "source": [
    "#### 5.4 Decision Tree Classifier"
   ]
  },
  {
   "cell_type": "code",
   "execution_count": 91,
   "id": "3435aa42-7028-4a25-81b5-ccaec18a54f8",
   "metadata": {},
   "outputs": [],
   "source": [
    "#Train model\n",
    "dt_model = DecisionTreeClassifier().fit(x_train_transformed,y_train)"
   ]
  },
  {
   "cell_type": "code",
   "execution_count": 92,
   "id": "fe0cc7a2-58f4-441d-9d97-9c742d13e98d",
   "metadata": {},
   "outputs": [],
   "source": [
    "#Predict values\n",
    "y_pred = dt_model.predict(x_test_transformed)"
   ]
  },
  {
   "cell_type": "code",
   "execution_count": 93,
   "id": "a02ac626-2837-4e37-a7f6-6f4c413b0bef",
   "metadata": {},
   "outputs": [
    {
     "name": "stdout",
     "output_type": "stream",
     "text": [
      "Accuracy Score: 0.7675\n"
     ]
    }
   ],
   "source": [
    "#Accuracy score\n",
    "score = accuracy_score(y_test, y_pred)\n",
    "print(\"Accuracy Score:\", score)"
   ]
  },
  {
   "cell_type": "markdown",
   "id": "bc7240b6-f1d3-4de9-b97c-1f9cc5443222",
   "metadata": {},
   "source": [
    "Support Vector Machine Performed the best."
   ]
  },
  {
   "cell_type": "markdown",
   "id": "1a995d2f-e050-4671-949f-1144890a3110",
   "metadata": {},
   "source": [
    "#### 5.5 Export Model"
   ]
  },
  {
   "cell_type": "code",
   "execution_count": 94,
   "id": "58a1a518-154a-4593-abac-9672eede8a05",
   "metadata": {},
   "outputs": [],
   "source": [
    "import pickle"
   ]
  },
  {
   "cell_type": "code",
   "execution_count": 95,
   "id": "c66cd5bc-4f1b-41c3-86fd-144fca0a1e77",
   "metadata": {},
   "outputs": [],
   "source": [
    "data = {\"preprocesor\": preprocessor,\"classifier\": svm_model}"
   ]
  },
  {
   "cell_type": "code",
   "execution_count": 96,
   "id": "09813ca4-ce79-40bb-96bd-7bad66f7f12d",
   "metadata": {},
   "outputs": [],
   "source": [
    "file = open(\"Churn_Model.pkl\", 'wb')"
   ]
  },
  {
   "cell_type": "code",
   "execution_count": 97,
   "id": "585728f5-ba82-4239-b871-5802787ac97c",
   "metadata": {},
   "outputs": [],
   "source": [
    "pickle.dump(data,file)"
   ]
  },
  {
   "cell_type": "code",
   "execution_count": null,
   "id": "4007c062-907a-47bf-894a-f2d1ae38f89e",
   "metadata": {},
   "outputs": [],
   "source": []
  }
 ],
 "metadata": {
  "kernelspec": {
   "display_name": "Python 3 (ipykernel)",
   "language": "python",
   "name": "python3"
  },
  "language_info": {
   "codemirror_mode": {
    "name": "ipython",
    "version": 3
   },
   "file_extension": ".py",
   "mimetype": "text/x-python",
   "name": "python",
   "nbconvert_exporter": "python",
   "pygments_lexer": "ipython3",
   "version": "3.12.0"
  }
 },
 "nbformat": 4,
 "nbformat_minor": 5
}
